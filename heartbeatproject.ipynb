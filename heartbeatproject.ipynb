{
 "cells": [
  {
   "cell_type": "markdown",
   "metadata": {},
   "source": [
    "# Unit 3 Assessment"
   ]
  },
  {
   "cell_type": "markdown",
   "metadata": {},
   "source": [
    "# Swetha Veerla(U62395128)"
   ]
  },
  {
   "cell_type": "markdown",
   "metadata": {},
   "source": [
    "In this assignment, we will focus on healthcare. This data set is made available by MIT. It contains data about 9,026 heartbeat measurements. Each row represents a single measurement (captured on a timeline). There are a total of 80 data points (columns). This is a multiclass classification task: predict whether the measurement represents a normal heartbeat or other anomalies. "
   ]
  },
  {
   "cell_type": "markdown",
   "metadata": {},
   "source": [
    "## Description of Variables\n",
    "\n",
    "You will use the **hearbeat_cleaned.csv** data set for this assignment. Each row represents a single measurement. Columns labeled as T1 from T80 are the time steps on the timeline (there are 80 time steps, each time step has only one measurement). \n",
    "\n",
    "The last column is the target variable. It shows the label (category) of the measurement as follows:<br>\n",
    "0 = Normal<br>\n",
    "1 = Supraventricular premature beat<br>\n",
    "2 = Premature ventricular contraction<br>\n",
    "3 = Fusion of ventricular and normal beat<br>\n",
    "4 = Unclassifiable beat"
   ]
  },
  {
   "cell_type": "markdown",
   "metadata": {},
   "source": [
    "## Goal\n",
    "\n",
    "Use the data set **hearbeat_cleaned.csv** to predict the column called **Target**. The input variables are columns labeled as **T1 to T80**. "
   ]
  },
  {
   "cell_type": "markdown",
   "metadata": {},
   "source": [
    "## Submission:\n",
    "\n",
    "Please save and submit this Jupyter notebook file. The correctness of the code matters for your grade. **Readability and organization of your code is also important.** You may lose points for submitting unreadable/undecipherable code. Therefore, use markdown cells to create sections, and use comments where necessary.\n"
   ]
  },
  {
   "cell_type": "markdown",
   "metadata": {},
   "source": [
    "# Read and Prepare the Data (1 points)"
   ]
  },
  {
   "cell_type": "code",
   "execution_count": 1,
   "metadata": {},
   "outputs": [],
   "source": [
    "# Insert as many cells as you need for data prep"
   ]
  },
  {
   "cell_type": "code",
   "execution_count": 2,
   "metadata": {},
   "outputs": [
    {
     "name": "stderr",
     "output_type": "stream",
     "text": [
      "/Users/swethaveerla/opt/anaconda3/lib/python3.9/site-packages/scipy/__init__.py:146: UserWarning: A NumPy version >=1.16.5 and <1.23.0 is required for this version of SciPy (detected version 1.23.5\n",
      "  warnings.warn(f\"A NumPy version >={np_minversion} and <{np_maxversion}\"\n"
     ]
    }
   ],
   "source": [
    "# Common imports\n",
    "import numpy as np\n",
    "import tensorflow as tf\n",
    "from tensorflow import keras\n",
    "import pandas as pd"
   ]
  },
  {
   "cell_type": "code",
   "execution_count": 3,
   "metadata": {},
   "outputs": [],
   "source": [
    "data = pd.read_csv(\"heartbeat_cleaned.csv\")"
   ]
  },
  {
   "cell_type": "code",
   "execution_count": 4,
   "metadata": {},
   "outputs": [
    {
     "data": {
      "text/plain": [
       "(7960, 81)"
      ]
     },
     "execution_count": 4,
     "metadata": {},
     "output_type": "execute_result"
    }
   ],
   "source": [
    "data.shape"
   ]
  },
  {
   "cell_type": "code",
   "execution_count": 5,
   "metadata": {},
   "outputs": [
    {
     "data": {
      "text/html": [
       "<div>\n",
       "<style scoped>\n",
       "    .dataframe tbody tr th:only-of-type {\n",
       "        vertical-align: middle;\n",
       "    }\n",
       "\n",
       "    .dataframe tbody tr th {\n",
       "        vertical-align: top;\n",
       "    }\n",
       "\n",
       "    .dataframe thead th {\n",
       "        text-align: right;\n",
       "    }\n",
       "</style>\n",
       "<table border=\"1\" class=\"dataframe\">\n",
       "  <thead>\n",
       "    <tr style=\"text-align: right;\">\n",
       "      <th></th>\n",
       "      <th>T1</th>\n",
       "      <th>T2</th>\n",
       "      <th>T3</th>\n",
       "      <th>T4</th>\n",
       "      <th>T5</th>\n",
       "      <th>T6</th>\n",
       "      <th>T7</th>\n",
       "      <th>T8</th>\n",
       "      <th>T9</th>\n",
       "      <th>T10</th>\n",
       "      <th>...</th>\n",
       "      <th>T72</th>\n",
       "      <th>T73</th>\n",
       "      <th>T74</th>\n",
       "      <th>T75</th>\n",
       "      <th>T76</th>\n",
       "      <th>T77</th>\n",
       "      <th>T78</th>\n",
       "      <th>T79</th>\n",
       "      <th>T80</th>\n",
       "      <th>Target</th>\n",
       "    </tr>\n",
       "  </thead>\n",
       "  <tbody>\n",
       "    <tr>\n",
       "      <th>0</th>\n",
       "      <td>0.987</td>\n",
       "      <td>0.892</td>\n",
       "      <td>0.461</td>\n",
       "      <td>0.1130</td>\n",
       "      <td>0.1490</td>\n",
       "      <td>0.1900</td>\n",
       "      <td>0.1650</td>\n",
       "      <td>0.1620</td>\n",
       "      <td>0.1470</td>\n",
       "      <td>0.1380</td>\n",
       "      <td>...</td>\n",
       "      <td>0.1970</td>\n",
       "      <td>0.1970</td>\n",
       "      <td>0.1960</td>\n",
       "      <td>0.2030</td>\n",
       "      <td>0.201</td>\n",
       "      <td>0.1990</td>\n",
       "      <td>0.2010</td>\n",
       "      <td>0.205</td>\n",
       "      <td>0.2080</td>\n",
       "      <td>0</td>\n",
       "    </tr>\n",
       "    <tr>\n",
       "      <th>1</th>\n",
       "      <td>1.000</td>\n",
       "      <td>0.918</td>\n",
       "      <td>0.621</td>\n",
       "      <td>0.1330</td>\n",
       "      <td>0.1050</td>\n",
       "      <td>0.1250</td>\n",
       "      <td>0.1170</td>\n",
       "      <td>0.0898</td>\n",
       "      <td>0.0703</td>\n",
       "      <td>0.0781</td>\n",
       "      <td>...</td>\n",
       "      <td>0.1950</td>\n",
       "      <td>0.1910</td>\n",
       "      <td>0.1520</td>\n",
       "      <td>0.1720</td>\n",
       "      <td>0.207</td>\n",
       "      <td>0.2110</td>\n",
       "      <td>0.2070</td>\n",
       "      <td>0.207</td>\n",
       "      <td>0.1720</td>\n",
       "      <td>0</td>\n",
       "    </tr>\n",
       "    <tr>\n",
       "      <th>2</th>\n",
       "      <td>1.000</td>\n",
       "      <td>0.751</td>\n",
       "      <td>0.143</td>\n",
       "      <td>0.1040</td>\n",
       "      <td>0.0961</td>\n",
       "      <td>0.0519</td>\n",
       "      <td>0.0442</td>\n",
       "      <td>0.0416</td>\n",
       "      <td>0.0364</td>\n",
       "      <td>0.0857</td>\n",
       "      <td>...</td>\n",
       "      <td>0.2260</td>\n",
       "      <td>0.2420</td>\n",
       "      <td>0.2440</td>\n",
       "      <td>0.2860</td>\n",
       "      <td>0.468</td>\n",
       "      <td>0.8160</td>\n",
       "      <td>0.9770</td>\n",
       "      <td>0.452</td>\n",
       "      <td>0.0519</td>\n",
       "      <td>0</td>\n",
       "    </tr>\n",
       "    <tr>\n",
       "      <th>3</th>\n",
       "      <td>1.000</td>\n",
       "      <td>0.740</td>\n",
       "      <td>0.235</td>\n",
       "      <td>0.0464</td>\n",
       "      <td>0.0722</td>\n",
       "      <td>0.0567</td>\n",
       "      <td>0.0103</td>\n",
       "      <td>0.0155</td>\n",
       "      <td>0.0284</td>\n",
       "      <td>0.0155</td>\n",
       "      <td>...</td>\n",
       "      <td>0.0851</td>\n",
       "      <td>0.0747</td>\n",
       "      <td>0.0515</td>\n",
       "      <td>0.0593</td>\n",
       "      <td>0.067</td>\n",
       "      <td>0.0361</td>\n",
       "      <td>0.1210</td>\n",
       "      <td>0.451</td>\n",
       "      <td>0.8690</td>\n",
       "      <td>0</td>\n",
       "    </tr>\n",
       "    <tr>\n",
       "      <th>4</th>\n",
       "      <td>1.000</td>\n",
       "      <td>0.833</td>\n",
       "      <td>0.309</td>\n",
       "      <td>0.0191</td>\n",
       "      <td>0.1010</td>\n",
       "      <td>0.1200</td>\n",
       "      <td>0.1040</td>\n",
       "      <td>0.0874</td>\n",
       "      <td>0.0765</td>\n",
       "      <td>0.0765</td>\n",
       "      <td>...</td>\n",
       "      <td>0.2050</td>\n",
       "      <td>0.4210</td>\n",
       "      <td>0.8030</td>\n",
       "      <td>0.9510</td>\n",
       "      <td>0.467</td>\n",
       "      <td>0.0000</td>\n",
       "      <td>0.0519</td>\n",
       "      <td>0.082</td>\n",
       "      <td>0.0628</td>\n",
       "      <td>0</td>\n",
       "    </tr>\n",
       "  </tbody>\n",
       "</table>\n",
       "<p>5 rows × 81 columns</p>\n",
       "</div>"
      ],
      "text/plain": [
       "      T1     T2     T3      T4      T5      T6      T7      T8      T9  \\\n",
       "0  0.987  0.892  0.461  0.1130  0.1490  0.1900  0.1650  0.1620  0.1470   \n",
       "1  1.000  0.918  0.621  0.1330  0.1050  0.1250  0.1170  0.0898  0.0703   \n",
       "2  1.000  0.751  0.143  0.1040  0.0961  0.0519  0.0442  0.0416  0.0364   \n",
       "3  1.000  0.740  0.235  0.0464  0.0722  0.0567  0.0103  0.0155  0.0284   \n",
       "4  1.000  0.833  0.309  0.0191  0.1010  0.1200  0.1040  0.0874  0.0765   \n",
       "\n",
       "      T10  ...     T72     T73     T74     T75    T76     T77     T78    T79  \\\n",
       "0  0.1380  ...  0.1970  0.1970  0.1960  0.2030  0.201  0.1990  0.2010  0.205   \n",
       "1  0.0781  ...  0.1950  0.1910  0.1520  0.1720  0.207  0.2110  0.2070  0.207   \n",
       "2  0.0857  ...  0.2260  0.2420  0.2440  0.2860  0.468  0.8160  0.9770  0.452   \n",
       "3  0.0155  ...  0.0851  0.0747  0.0515  0.0593  0.067  0.0361  0.1210  0.451   \n",
       "4  0.0765  ...  0.2050  0.4210  0.8030  0.9510  0.467  0.0000  0.0519  0.082   \n",
       "\n",
       "      T80  Target  \n",
       "0  0.2080       0  \n",
       "1  0.1720       0  \n",
       "2  0.0519       0  \n",
       "3  0.8690       0  \n",
       "4  0.0628       0  \n",
       "\n",
       "[5 rows x 81 columns]"
      ]
     },
     "execution_count": 5,
     "metadata": {},
     "output_type": "execute_result"
    }
   ],
   "source": [
    "data.head()"
   ]
  },
  {
   "cell_type": "code",
   "execution_count": 6,
   "metadata": {},
   "outputs": [],
   "source": [
    "y = data['Target']\n",
    "x = data.drop('Target', axis=1)"
   ]
  },
  {
   "cell_type": "markdown",
   "metadata": {},
   "source": [
    "## Split the Data"
   ]
  },
  {
   "cell_type": "code",
   "execution_count": 7,
   "metadata": {},
   "outputs": [],
   "source": [
    "from sklearn.model_selection import train_test_split\n",
    "\n",
    "train_x, test_x, train_y, test_y = train_test_split(x, y, test_size=0.3)"
   ]
  },
  {
   "cell_type": "markdown",
   "metadata": {},
   "source": [
    "## Data Transformation"
   ]
  },
  {
   "cell_type": "code",
   "execution_count": 8,
   "metadata": {},
   "outputs": [],
   "source": [
    "#Target variables need to be an array with integer type\n",
    "train_y = np.array(train_y)\n",
    "test_y = np.array(test_y)\n",
    "\n",
    "train_y = train_y.astype(np.int32)\n",
    "test_y = test_y.astype(np.int32)\n",
    "\n"
   ]
  },
  {
   "cell_type": "code",
   "execution_count": 9,
   "metadata": {},
   "outputs": [
    {
     "data": {
      "text/plain": [
       "array([0, 0, 4, 4, 0, 0, 0, 0, 0, 2], dtype=int32)"
      ]
     },
     "execution_count": 9,
     "metadata": {},
     "output_type": "execute_result"
    }
   ],
   "source": [
    "#Check the first 10 values of the train_y data set\n",
    "train_y[0:10]"
   ]
  },
  {
   "cell_type": "code",
   "execution_count": 10,
   "metadata": {},
   "outputs": [],
   "source": [
    "#Convert input variables to a 2-D array with float data type\n",
    "train_x= np.array(train_x)\n",
    "test_x= np.array(test_x)\n",
    "\n",
    "train_x = train_x.astype(np.float32)\n",
    "test_x = test_x.astype(np.float32)"
   ]
  },
  {
   "cell_type": "code",
   "execution_count": 11,
   "metadata": {},
   "outputs": [
    {
     "data": {
      "text/plain": [
       "array([[1.    , 0.654 , 0.276 , ..., 0.352 , 0.354 , 0.376 ],\n",
       "       [0.988 , 0.931 , 0.82  , ..., 0.235 , 0.227 , 0.234 ],\n",
       "       [0.918 , 0.484 , 0.5   , ..., 0.186 , 0.189 , 0.186 ],\n",
       "       ...,\n",
       "       [0.887 , 0.496 , 0.521 , ..., 0.202 , 0.213 , 0.199 ],\n",
       "       [0.931 , 0.868 , 0.637 , ..., 0.0686, 0.0294, 0.0686],\n",
       "       [1.    , 0.546 , 0.586 , ..., 0.132 , 0.139 , 0.132 ]],\n",
       "      dtype=float32)"
      ]
     },
     "execution_count": 11,
     "metadata": {},
     "output_type": "execute_result"
    }
   ],
   "source": [
    "train_x"
   ]
  },
  {
   "cell_type": "code",
   "execution_count": 12,
   "metadata": {},
   "outputs": [],
   "source": [
    "#Keras expects a different input format:\n",
    "#Data needs to have 3 dimensions\n",
    "\n",
    "train_x = np.reshape(train_x, (train_x.shape[0], train_x.shape[1], 1))\n",
    "test_x = np.reshape(test_x, (test_x.shape[0], test_x.shape[1], 1))"
   ]
  },
  {
   "cell_type": "code",
   "execution_count": 13,
   "metadata": {},
   "outputs": [
    {
     "data": {
      "text/plain": [
       "((5572, 80, 1), (5572,))"
      ]
     },
     "execution_count": 13,
     "metadata": {},
     "output_type": "execute_result"
    }
   ],
   "source": [
    "train_x.shape, train_y.shape"
   ]
  },
  {
   "cell_type": "code",
   "execution_count": 14,
   "metadata": {},
   "outputs": [
    {
     "data": {
      "text/plain": [
       "array([[[1.    ],\n",
       "        [0.654 ],\n",
       "        [0.276 ],\n",
       "        ...,\n",
       "        [0.352 ],\n",
       "        [0.354 ],\n",
       "        [0.376 ]],\n",
       "\n",
       "       [[0.988 ],\n",
       "        [0.931 ],\n",
       "        [0.82  ],\n",
       "        ...,\n",
       "        [0.235 ],\n",
       "        [0.227 ],\n",
       "        [0.234 ]],\n",
       "\n",
       "       [[0.918 ],\n",
       "        [0.484 ],\n",
       "        [0.5   ],\n",
       "        ...,\n",
       "        [0.186 ],\n",
       "        [0.189 ],\n",
       "        [0.186 ]],\n",
       "\n",
       "       ...,\n",
       "\n",
       "       [[0.887 ],\n",
       "        [0.496 ],\n",
       "        [0.521 ],\n",
       "        ...,\n",
       "        [0.202 ],\n",
       "        [0.213 ],\n",
       "        [0.199 ]],\n",
       "\n",
       "       [[0.931 ],\n",
       "        [0.868 ],\n",
       "        [0.637 ],\n",
       "        ...,\n",
       "        [0.0686],\n",
       "        [0.0294],\n",
       "        [0.0686]],\n",
       "\n",
       "       [[1.    ],\n",
       "        [0.546 ],\n",
       "        [0.586 ],\n",
       "        ...,\n",
       "        [0.132 ],\n",
       "        [0.139 ],\n",
       "        [0.132 ]]], dtype=float32)"
      ]
     },
     "execution_count": 14,
     "metadata": {},
     "output_type": "execute_result"
    }
   ],
   "source": [
    "train_x"
   ]
  },
  {
   "cell_type": "markdown",
   "metadata": {},
   "source": [
    "# Find the baseline (0.5 point)"
   ]
  },
  {
   "cell_type": "code",
   "execution_count": 15,
   "metadata": {},
   "outputs": [
    {
     "data": {
      "text/plain": [
       "DummyClassifier(strategy='most_frequent')"
      ]
     },
     "execution_count": 15,
     "metadata": {},
     "output_type": "execute_result"
    }
   ],
   "source": [
    "from sklearn.dummy import DummyClassifier\n",
    "\n",
    "dummy_clf = DummyClassifier(strategy=\"most_frequent\")\n",
    "\n",
    "dummy_clf.fit(train_x, train_y)"
   ]
  },
  {
   "cell_type": "code",
   "execution_count": 16,
   "metadata": {},
   "outputs": [],
   "source": [
    "from sklearn.metrics import accuracy_score"
   ]
  },
  {
   "cell_type": "code",
   "execution_count": 17,
   "metadata": {},
   "outputs": [
    {
     "name": "stdout",
     "output_type": "stream",
     "text": [
      "Baseline Train Accuracy: 0.5816582914572864\n"
     ]
    }
   ],
   "source": [
    "#Baseline Train Accuracy\n",
    "dummy_train_pred = dummy_clf.predict(train_x)\n",
    "\n",
    "baseline_train_acc = accuracy_score(train_y, dummy_train_pred)\n",
    "\n",
    "print('Baseline Train Accuracy: {}' .format(baseline_train_acc))"
   ]
  },
  {
   "cell_type": "code",
   "execution_count": 18,
   "metadata": {},
   "outputs": [
    {
     "name": "stdout",
     "output_type": "stream",
     "text": [
      "Baseline Test Accuracy: 0.5829145728643216\n"
     ]
    }
   ],
   "source": [
    "#Baseline Test Accuracy\n",
    "dummy_test_pred = dummy_clf.predict(test_x)\n",
    "\n",
    "baseline_test_acc = accuracy_score(test_y, dummy_test_pred)\n",
    "\n",
    "print('Baseline Test Accuracy: {}' .format(baseline_test_acc))"
   ]
  },
  {
   "cell_type": "markdown",
   "metadata": {},
   "source": [
    "# Build a cross-sectional (i.e., a regular) Neural Network model using Keras (with only one hidden layer) (2 points)"
   ]
  },
  {
   "cell_type": "markdown",
   "metadata": {},
   "source": [
    "# A normal (cross-sectional) NN\n"
   ]
  },
  {
   "cell_type": "code",
   "execution_count": 19,
   "metadata": {},
   "outputs": [],
   "source": [
    "from tensorflow.keras.callbacks import EarlyStopping\n",
    "\n",
    "\n",
    "earlystop = EarlyStopping(monitor='val_loss', patience=5, verbose=1, mode='auto')\n",
    "\n",
    "callback = [earlystop]"
   ]
  },
  {
   "cell_type": "code",
   "execution_count": 20,
   "metadata": {},
   "outputs": [],
   "source": [
    "model = keras.models.Sequential([\n",
    "    \n",
    "    keras.layers.Flatten(input_shape=[80, 1]),\n",
    "    keras.layers.Dense(80, activation='relu'),\n",
    "    keras.layers.Dense(5, activation='softmax')\n",
    "    \n",
    "])"
   ]
  },
  {
   "cell_type": "code",
   "execution_count": 21,
   "metadata": {},
   "outputs": [
    {
     "name": "stdout",
     "output_type": "stream",
     "text": [
      "Epoch 1/50\n",
      "175/175 [==============================] - 0s 995us/step - loss: 0.6547 - accuracy: 0.7821 - val_loss: 0.4910 - val_accuracy: 0.8392\n",
      "Epoch 2/50\n",
      "175/175 [==============================] - 0s 601us/step - loss: 0.4481 - accuracy: 0.8588 - val_loss: 0.7443 - val_accuracy: 0.7487\n",
      "Epoch 3/50\n",
      "175/175 [==============================] - 0s 600us/step - loss: 0.3876 - accuracy: 0.8824 - val_loss: 0.4647 - val_accuracy: 0.8576\n",
      "Epoch 4/50\n",
      "175/175 [==============================] - 0s 601us/step - loss: 0.3490 - accuracy: 0.8945 - val_loss: 0.3724 - val_accuracy: 0.8639\n",
      "Epoch 5/50\n",
      "175/175 [==============================] - 0s 600us/step - loss: 0.3231 - accuracy: 0.9033 - val_loss: 0.3525 - val_accuracy: 0.8966\n",
      "Epoch 6/50\n",
      "175/175 [==============================] - 0s 626us/step - loss: 0.3069 - accuracy: 0.9106 - val_loss: 0.3808 - val_accuracy: 0.8681\n",
      "Epoch 7/50\n",
      "175/175 [==============================] - 0s 753us/step - loss: 0.2826 - accuracy: 0.9144 - val_loss: 0.3482 - val_accuracy: 0.8890\n",
      "Epoch 8/50\n",
      "175/175 [==============================] - 0s 649us/step - loss: 0.2706 - accuracy: 0.9173 - val_loss: 0.2414 - val_accuracy: 0.9309\n",
      "Epoch 9/50\n",
      "175/175 [==============================] - 0s 614us/step - loss: 0.2595 - accuracy: 0.9225 - val_loss: 0.3220 - val_accuracy: 0.8878\n",
      "Epoch 10/50\n",
      "175/175 [==============================] - 0s 603us/step - loss: 0.2582 - accuracy: 0.9218 - val_loss: 0.7667 - val_accuracy: 0.6834\n",
      "Epoch 11/50\n",
      "175/175 [==============================] - 0s 602us/step - loss: 0.2508 - accuracy: 0.9257 - val_loss: 0.6804 - val_accuracy: 0.7647\n",
      "Epoch 12/50\n",
      "175/175 [==============================] - 0s 605us/step - loss: 0.2479 - accuracy: 0.9232 - val_loss: 0.2541 - val_accuracy: 0.9225\n",
      "Epoch 13/50\n",
      "175/175 [==============================] - 0s 604us/step - loss: 0.2306 - accuracy: 0.9302 - val_loss: 0.2446 - val_accuracy: 0.9238\n",
      "Epoch 13: early stopping\n"
     ]
    }
   ],
   "source": [
    "np.random.seed(42)\n",
    "tf.random.set_seed(42)\n",
    "\n",
    "optimizer = tf.keras.optimizers.Nadam(learning_rate=0.01)\n",
    "\n",
    "# If multiclass, use \"sparse_categorical_crossentropy\" as the loss function\n",
    "model.compile(loss=\"sparse_categorical_crossentropy\", optimizer=optimizer, metrics=['accuracy'])\n",
    "\n",
    "\n",
    "history = model.fit(train_x, train_y, epochs=50,\n",
    "                    validation_data=(test_x, test_y),callbacks=callback)"
   ]
  },
  {
   "cell_type": "code",
   "execution_count": 22,
   "metadata": {},
   "outputs": [
    {
     "data": {
      "text/plain": [
       "[0.24461400508880615, 0.9237855672836304]"
      ]
     },
     "execution_count": 22,
     "metadata": {},
     "output_type": "execute_result"
    }
   ],
   "source": [
    "# evaluate the model\n",
    "\n",
    "scores = model.evaluate(test_x, test_y, verbose=0)\n",
    "\n",
    "scores\n",
    "\n",
    "# In results, first is loss, second is accuracy"
   ]
  },
  {
   "cell_type": "code",
   "execution_count": 23,
   "metadata": {},
   "outputs": [
    {
     "name": "stdout",
     "output_type": "stream",
     "text": [
      "loss: 0.24\n",
      "accuracy: 92.38%\n"
     ]
    }
   ],
   "source": [
    "# extract the accuracy from model.evaluate\n",
    "\n",
    "print(\"%s: %.2f\" % (model.metrics_names[0], scores[0]))\n",
    "print(\"%s: %.2f%%\" % (model.metrics_names[1], scores[1]*100))\n"
   ]
  },
  {
   "cell_type": "markdown",
   "metadata": {},
   "source": [
    "# Build a deep cross-sectional (i.e., regular) Neural Network model using Keras (with two or more hidden layers) (2 points)"
   ]
  },
  {
   "cell_type": "code",
   "execution_count": 24,
   "metadata": {},
   "outputs": [],
   "source": [
    "model = keras.models.Sequential([\n",
    "    \n",
    "    keras.layers.Flatten(input_shape=[80, 1]),\n",
    "    keras.layers.Dense(80, activation='relu'),\n",
    "    keras.layers.Dense(80, activation='relu'),\n",
    "    keras.layers.Dense(80, activation='relu'),\n",
    "    keras.layers.Dense(5, activation='softmax')\n",
    "    \n",
    "])"
   ]
  },
  {
   "cell_type": "code",
   "execution_count": 25,
   "metadata": {},
   "outputs": [
    {
     "name": "stdout",
     "output_type": "stream",
     "text": [
      "Epoch 1/50\n",
      "175/175 [==============================] - 0s 1ms/step - loss: 0.6755 - accuracy: 0.7617 - val_loss: 0.5263 - val_accuracy: 0.8145\n",
      "Epoch 2/50\n",
      "175/175 [==============================] - 0s 720us/step - loss: 0.4823 - accuracy: 0.8322 - val_loss: 0.8110 - val_accuracy: 0.6809\n",
      "Epoch 3/50\n",
      "175/175 [==============================] - 0s 714us/step - loss: 0.3979 - accuracy: 0.8740 - val_loss: 0.3192 - val_accuracy: 0.9028\n",
      "Epoch 4/50\n",
      "175/175 [==============================] - 0s 721us/step - loss: 0.3485 - accuracy: 0.8927 - val_loss: 2.7591 - val_accuracy: 0.5147\n",
      "Epoch 5/50\n",
      "175/175 [==============================] - 0s 711us/step - loss: 0.3976 - accuracy: 0.8728 - val_loss: 0.3628 - val_accuracy: 0.8752\n",
      "Epoch 6/50\n",
      "175/175 [==============================] - 0s 726us/step - loss: 0.3180 - accuracy: 0.8995 - val_loss: 0.3537 - val_accuracy: 0.8823\n",
      "Epoch 7/50\n",
      "175/175 [==============================] - 0s 719us/step - loss: 0.3326 - accuracy: 0.8977 - val_loss: 0.3482 - val_accuracy: 0.8995\n",
      "Epoch 8/50\n",
      "175/175 [==============================] - 0s 703us/step - loss: 0.2847 - accuracy: 0.9074 - val_loss: 0.3584 - val_accuracy: 0.8882\n",
      "Epoch 8: early stopping\n"
     ]
    }
   ],
   "source": [
    "np.random.seed(42)\n",
    "tf.random.set_seed(42)\n",
    "\n",
    "optimizer = keras.optimizers.Nadam(learning_rate=0.01)\n",
    "\n",
    "model.compile(loss=\"sparse_categorical_crossentropy\", optimizer=optimizer, metrics=['accuracy'])\n",
    "\n",
    "history = model.fit(train_x, train_y, epochs=50,\n",
    "                   validation_data = (test_x, test_y), callbacks=callback)"
   ]
  },
  {
   "cell_type": "code",
   "execution_count": 26,
   "metadata": {},
   "outputs": [
    {
     "data": {
      "text/plain": [
       "[0.3584342896938324, 0.8881909251213074]"
      ]
     },
     "execution_count": 26,
     "metadata": {},
     "output_type": "execute_result"
    }
   ],
   "source": [
    "# evaluate the model\n",
    "\n",
    "scores = model.evaluate(test_x, test_y, verbose=0)\n",
    "\n",
    "scores\n",
    "\n",
    "# In results, first is loss, second is accuracy"
   ]
  },
  {
   "cell_type": "code",
   "execution_count": 27,
   "metadata": {},
   "outputs": [
    {
     "name": "stdout",
     "output_type": "stream",
     "text": [
      "loss: 0.36\n",
      "accuracy: 88.82%\n"
     ]
    }
   ],
   "source": [
    "# extract the accuracy from model.evaluate\n",
    "\n",
    "print(\"%s: %.2f\" % (model.metrics_names[0], scores[0]))\n",
    "print(\"%s: %.2f%%\" % (model.metrics_names[1], scores[1]*100))\n"
   ]
  },
  {
   "cell_type": "markdown",
   "metadata": {},
   "source": [
    "# Build a LSTM Model (with only one layer) (2 points)"
   ]
  },
  {
   "cell_type": "code",
   "execution_count": 28,
   "metadata": {},
   "outputs": [],
   "source": [
    "n_steps = 80\n",
    "n_inputs = 1\n",
    "\n",
    "model = keras.models.Sequential([\n",
    "    \n",
    "    keras.layers.LSTM(40, input_shape=[n_steps, n_inputs]),\n",
    "    keras.layers.Dense(5, activation='softmax')\n",
    "])"
   ]
  },
  {
   "cell_type": "code",
   "execution_count": 29,
   "metadata": {},
   "outputs": [
    {
     "name": "stdout",
     "output_type": "stream",
     "text": [
      "Epoch 1/50\n",
      "175/175 [==============================] - 4s 15ms/step - loss: 1.1238 - accuracy: 0.5781 - val_loss: 1.1918 - val_accuracy: 0.5829\n",
      "Epoch 2/50\n",
      "175/175 [==============================] - 2s 14ms/step - loss: 1.0505 - accuracy: 0.5989 - val_loss: 1.1290 - val_accuracy: 0.5653\n",
      "Epoch 3/50\n",
      "175/175 [==============================] - 2s 14ms/step - loss: 1.0173 - accuracy: 0.6179 - val_loss: 0.9196 - val_accuracy: 0.6951\n",
      "Epoch 4/50\n",
      "175/175 [==============================] - 2s 14ms/step - loss: 0.8852 - accuracy: 0.6845 - val_loss: 1.0102 - val_accuracy: 0.6780\n",
      "Epoch 5/50\n",
      "175/175 [==============================] - 2s 14ms/step - loss: 0.7517 - accuracy: 0.7378 - val_loss: 0.7490 - val_accuracy: 0.7173\n",
      "Epoch 6/50\n",
      "175/175 [==============================] - 2s 13ms/step - loss: 0.6308 - accuracy: 0.7976 - val_loss: 0.5328 - val_accuracy: 0.8308\n",
      "Epoch 7/50\n",
      "175/175 [==============================] - 2s 14ms/step - loss: 0.5575 - accuracy: 0.8200 - val_loss: 0.5062 - val_accuracy: 0.8421\n",
      "Epoch 8/50\n",
      "175/175 [==============================] - 2s 14ms/step - loss: 0.6543 - accuracy: 0.7889 - val_loss: 0.6197 - val_accuracy: 0.7856\n",
      "Epoch 9/50\n",
      "175/175 [==============================] - 2s 14ms/step - loss: 0.4978 - accuracy: 0.8439 - val_loss: 0.4717 - val_accuracy: 0.8555\n",
      "Epoch 10/50\n",
      "175/175 [==============================] - 2s 13ms/step - loss: 0.4668 - accuracy: 0.8460 - val_loss: 0.6097 - val_accuracy: 0.8262\n",
      "Epoch 11/50\n",
      "175/175 [==============================] - 2s 14ms/step - loss: 0.4957 - accuracy: 0.8342 - val_loss: 0.6076 - val_accuracy: 0.8187\n",
      "Epoch 12/50\n",
      "175/175 [==============================] - 2s 14ms/step - loss: 0.4889 - accuracy: 0.8460 - val_loss: 0.5211 - val_accuracy: 0.8488\n",
      "Epoch 13/50\n",
      "175/175 [==============================] - 2s 13ms/step - loss: 0.4559 - accuracy: 0.8536 - val_loss: 0.4192 - val_accuracy: 0.8614\n",
      "Epoch 14/50\n",
      "175/175 [==============================] - 2s 13ms/step - loss: 0.4376 - accuracy: 0.8616 - val_loss: 0.4958 - val_accuracy: 0.8266\n",
      "Epoch 15/50\n",
      "175/175 [==============================] - 2s 14ms/step - loss: 0.4036 - accuracy: 0.8715 - val_loss: 0.3827 - val_accuracy: 0.8928\n",
      "Epoch 16/50\n",
      "175/175 [==============================] - 2s 14ms/step - loss: 0.3790 - accuracy: 0.8837 - val_loss: 0.3530 - val_accuracy: 0.9008\n",
      "Epoch 17/50\n",
      "175/175 [==============================] - 2s 14ms/step - loss: 0.3587 - accuracy: 0.8925 - val_loss: 0.4042 - val_accuracy: 0.8811\n",
      "Epoch 18/50\n",
      "175/175 [==============================] - 2s 14ms/step - loss: 0.4278 - accuracy: 0.8670 - val_loss: 0.4143 - val_accuracy: 0.8744\n",
      "Epoch 19/50\n",
      "175/175 [==============================] - 2s 14ms/step - loss: 0.3846 - accuracy: 0.8728 - val_loss: 0.3356 - val_accuracy: 0.9070\n",
      "Epoch 20/50\n",
      "175/175 [==============================] - 2s 13ms/step - loss: 0.3554 - accuracy: 0.8898 - val_loss: 0.3610 - val_accuracy: 0.8970\n",
      "Epoch 21/50\n",
      "175/175 [==============================] - 2s 14ms/step - loss: 0.3310 - accuracy: 0.8947 - val_loss: 0.3374 - val_accuracy: 0.9028\n",
      "Epoch 22/50\n",
      "175/175 [==============================] - 2s 14ms/step - loss: 0.4087 - accuracy: 0.8641 - val_loss: 0.3665 - val_accuracy: 0.8886\n",
      "Epoch 23/50\n",
      "175/175 [==============================] - 2s 14ms/step - loss: 0.3466 - accuracy: 0.8868 - val_loss: 0.3570 - val_accuracy: 0.8861\n",
      "Epoch 24/50\n",
      "175/175 [==============================] - 2s 14ms/step - loss: 0.3189 - accuracy: 0.8982 - val_loss: 0.3223 - val_accuracy: 0.9012\n",
      "Epoch 25/50\n",
      "175/175 [==============================] - 2s 14ms/step - loss: 0.3237 - accuracy: 0.8977 - val_loss: 0.5261 - val_accuracy: 0.8204\n",
      "Epoch 26/50\n",
      "175/175 [==============================] - 2s 14ms/step - loss: 0.3279 - accuracy: 0.8932 - val_loss: 0.2998 - val_accuracy: 0.9121\n",
      "Epoch 27/50\n",
      "175/175 [==============================] - 2s 13ms/step - loss: 0.2984 - accuracy: 0.9060 - val_loss: 0.3195 - val_accuracy: 0.9054\n",
      "Epoch 28/50\n",
      "175/175 [==============================] - 2s 14ms/step - loss: 0.3010 - accuracy: 0.9058 - val_loss: 0.2835 - val_accuracy: 0.9200\n",
      "Epoch 29/50\n",
      "175/175 [==============================] - 2s 14ms/step - loss: 0.2862 - accuracy: 0.9146 - val_loss: 0.3007 - val_accuracy: 0.9125\n",
      "Epoch 30/50\n",
      "175/175 [==============================] - 2s 14ms/step - loss: 0.2898 - accuracy: 0.9088 - val_loss: 0.3932 - val_accuracy: 0.8727\n",
      "Epoch 31/50\n",
      "175/175 [==============================] - 2s 14ms/step - loss: 0.2891 - accuracy: 0.9099 - val_loss: 0.4105 - val_accuracy: 0.8710\n",
      "Epoch 32/50\n",
      "175/175 [==============================] - 2s 14ms/step - loss: 0.2728 - accuracy: 0.9183 - val_loss: 0.2781 - val_accuracy: 0.9221\n",
      "Epoch 33/50\n",
      "175/175 [==============================] - 2s 13ms/step - loss: 0.2505 - accuracy: 0.9203 - val_loss: 0.2780 - val_accuracy: 0.9217\n",
      "Epoch 34/50\n",
      "175/175 [==============================] - 2s 13ms/step - loss: 0.2493 - accuracy: 0.9214 - val_loss: 0.2737 - val_accuracy: 0.9213\n",
      "Epoch 35/50\n",
      "175/175 [==============================] - 2s 14ms/step - loss: 0.2488 - accuracy: 0.9226 - val_loss: 0.3122 - val_accuracy: 0.9045\n",
      "Epoch 36/50\n",
      "175/175 [==============================] - 2s 14ms/step - loss: 0.2561 - accuracy: 0.9218 - val_loss: 0.3189 - val_accuracy: 0.8991\n",
      "Epoch 37/50\n",
      "175/175 [==============================] - 2s 14ms/step - loss: 0.2463 - accuracy: 0.9192 - val_loss: 0.2595 - val_accuracy: 0.9225\n",
      "Epoch 38/50\n",
      "175/175 [==============================] - 2s 14ms/step - loss: 0.2383 - accuracy: 0.9248 - val_loss: 0.2768 - val_accuracy: 0.9183\n",
      "Epoch 39/50\n",
      "175/175 [==============================] - 2s 14ms/step - loss: 0.2415 - accuracy: 0.9255 - val_loss: 0.2873 - val_accuracy: 0.9150\n",
      "Epoch 40/50\n",
      "175/175 [==============================] - 2s 13ms/step - loss: 0.2562 - accuracy: 0.9182 - val_loss: 0.2735 - val_accuracy: 0.9167\n",
      "Epoch 41/50\n",
      "175/175 [==============================] - 2s 14ms/step - loss: 0.2233 - accuracy: 0.9300 - val_loss: 0.2880 - val_accuracy: 0.9158\n",
      "Epoch 42/50\n",
      "175/175 [==============================] - 2s 14ms/step - loss: 0.2171 - accuracy: 0.9320 - val_loss: 0.2727 - val_accuracy: 0.9221\n",
      "Epoch 42: early stopping\n"
     ]
    }
   ],
   "source": [
    "np.random.seed(42)\n",
    "tf.random.set_seed(42)\n",
    "\n",
    "optimizer = keras.optimizers.Nadam(learning_rate=0.01)\n",
    "\n",
    "model.compile(loss=\"sparse_categorical_crossentropy\", optimizer=optimizer, metrics=['accuracy'])\n",
    "\n",
    "history = model.fit(train_x, train_y, epochs=50,\n",
    "                   validation_data = (test_x, test_y), callbacks=callback)"
   ]
  },
  {
   "cell_type": "code",
   "execution_count": 30,
   "metadata": {},
   "outputs": [
    {
     "data": {
      "text/plain": [
       "[0.2727125585079193, 0.9221105575561523]"
      ]
     },
     "execution_count": 30,
     "metadata": {},
     "output_type": "execute_result"
    }
   ],
   "source": [
    "scores = model.evaluate(test_x, test_y, verbose=0)\n",
    "\n",
    "scores\n"
   ]
  },
  {
   "cell_type": "code",
   "execution_count": 31,
   "metadata": {},
   "outputs": [
    {
     "name": "stdout",
     "output_type": "stream",
     "text": [
      "loss: 0.27\n",
      "accuracy: 92.21%\n"
     ]
    }
   ],
   "source": [
    "print(\"%s: %.2f\" % (model.metrics_names[0], scores[0]))\n",
    "print(\"%s: %.2f%%\" % (model.metrics_names[1], scores[1]*100))\n"
   ]
  },
  {
   "cell_type": "markdown",
   "metadata": {},
   "source": [
    "# Build a deep LSTM Model (with only two layers) (2 points)"
   ]
  },
  {
   "cell_type": "code",
   "execution_count": 32,
   "metadata": {},
   "outputs": [],
   "source": [
    "n_steps = 80\n",
    "n_inputs = 1\n",
    "\n",
    "model = keras.models.Sequential([\n",
    "    keras.layers.LSTM(40, return_sequences=True, input_shape=[n_steps, n_inputs]),\n",
    "    keras.layers.LSTM(40),\n",
    "    keras.layers.Dense(5, activation='softmax')\n",
    "])"
   ]
  },
  {
   "cell_type": "code",
   "execution_count": 33,
   "metadata": {},
   "outputs": [
    {
     "name": "stdout",
     "output_type": "stream",
     "text": [
      "Epoch 1/50\n",
      "175/175 [==============================] - 7s 31ms/step - loss: 1.1121 - accuracy: 0.5779 - val_loss: 1.0741 - val_accuracy: 0.5829\n",
      "Epoch 2/50\n",
      "175/175 [==============================] - 5s 29ms/step - loss: 1.0852 - accuracy: 0.5874 - val_loss: 1.0925 - val_accuracy: 0.5670\n",
      "Epoch 3/50\n",
      "175/175 [==============================] - 5s 29ms/step - loss: 1.0393 - accuracy: 0.5975 - val_loss: 1.0925 - val_accuracy: 0.5829\n",
      "Epoch 4/50\n",
      "175/175 [==============================] - 5s 29ms/step - loss: 1.0271 - accuracy: 0.5840 - val_loss: 1.1015 - val_accuracy: 0.5829\n",
      "Epoch 5/50\n",
      "175/175 [==============================] - 5s 28ms/step - loss: 1.0427 - accuracy: 0.6052 - val_loss: 1.1489 - val_accuracy: 0.5322\n",
      "Epoch 6/50\n",
      "175/175 [==============================] - 5s 29ms/step - loss: 1.0098 - accuracy: 0.6107 - val_loss: 1.0083 - val_accuracy: 0.6394\n",
      "Epoch 7/50\n",
      "175/175 [==============================] - 5s 29ms/step - loss: 0.9435 - accuracy: 0.6387 - val_loss: 0.9243 - val_accuracy: 0.6721\n",
      "Epoch 8/50\n",
      "175/175 [==============================] - 5s 29ms/step - loss: 0.9076 - accuracy: 0.6665 - val_loss: 0.9213 - val_accuracy: 0.6788\n",
      "Epoch 9/50\n",
      "175/175 [==============================] - 5s 29ms/step - loss: 1.0213 - accuracy: 0.6229 - val_loss: 1.1484 - val_accuracy: 0.5829\n",
      "Epoch 10/50\n",
      "175/175 [==============================] - 5s 29ms/step - loss: 1.1012 - accuracy: 0.5820 - val_loss: 1.0737 - val_accuracy: 0.5988\n",
      "Epoch 11/50\n",
      "175/175 [==============================] - 5s 29ms/step - loss: 1.0626 - accuracy: 0.5960 - val_loss: 1.0736 - val_accuracy: 0.6290\n",
      "Epoch 12/50\n",
      "175/175 [==============================] - 5s 29ms/step - loss: 1.0427 - accuracy: 0.6172 - val_loss: 1.1303 - val_accuracy: 0.5829\n",
      "Epoch 13/50\n",
      "175/175 [==============================] - 5s 29ms/step - loss: 0.8060 - accuracy: 0.7188 - val_loss: 0.7311 - val_accuracy: 0.7383\n",
      "Epoch 14/50\n",
      "175/175 [==============================] - 5s 29ms/step - loss: 0.7279 - accuracy: 0.7477 - val_loss: 0.9495 - val_accuracy: 0.6575\n",
      "Epoch 15/50\n",
      "175/175 [==============================] - 6s 33ms/step - loss: 0.6544 - accuracy: 0.7742 - val_loss: 0.6129 - val_accuracy: 0.7940\n",
      "Epoch 16/50\n",
      "175/175 [==============================] - 5s 29ms/step - loss: 0.6380 - accuracy: 0.7762 - val_loss: 0.5822 - val_accuracy: 0.8049\n",
      "Epoch 17/50\n",
      "175/175 [==============================] - 5s 29ms/step - loss: 0.5773 - accuracy: 0.8008 - val_loss: 0.7084 - val_accuracy: 0.7303\n",
      "Epoch 18/50\n",
      "175/175 [==============================] - 5s 28ms/step - loss: 0.5163 - accuracy: 0.8275 - val_loss: 0.5272 - val_accuracy: 0.8224\n",
      "Epoch 19/50\n",
      "175/175 [==============================] - 5s 29ms/step - loss: 0.4693 - accuracy: 0.8491 - val_loss: 0.7518 - val_accuracy: 0.6658\n",
      "Epoch 20/50\n",
      "175/175 [==============================] - 5s 29ms/step - loss: 0.4825 - accuracy: 0.8464 - val_loss: 0.4587 - val_accuracy: 0.8467\n",
      "Epoch 21/50\n",
      "175/175 [==============================] - 5s 29ms/step - loss: 0.4203 - accuracy: 0.8760 - val_loss: 0.6014 - val_accuracy: 0.8070\n",
      "Epoch 22/50\n",
      "175/175 [==============================] - 5s 29ms/step - loss: 0.4225 - accuracy: 0.8740 - val_loss: 0.5614 - val_accuracy: 0.8321\n",
      "Epoch 23/50\n",
      "175/175 [==============================] - 5s 29ms/step - loss: 0.3963 - accuracy: 0.8808 - val_loss: 0.5000 - val_accuracy: 0.8074\n",
      "Epoch 24/50\n",
      "175/175 [==============================] - 5s 29ms/step - loss: 0.3752 - accuracy: 0.8877 - val_loss: 0.3812 - val_accuracy: 0.8844\n",
      "Epoch 25/50\n",
      "175/175 [==============================] - 5s 29ms/step - loss: 0.3814 - accuracy: 0.8869 - val_loss: 0.4193 - val_accuracy: 0.8874\n",
      "Epoch 26/50\n",
      "175/175 [==============================] - 5s 29ms/step - loss: 0.3601 - accuracy: 0.8947 - val_loss: 0.3784 - val_accuracy: 0.8865\n",
      "Epoch 27/50\n",
      "175/175 [==============================] - 5s 29ms/step - loss: 0.3506 - accuracy: 0.8936 - val_loss: 1.9217 - val_accuracy: 0.4757\n",
      "Epoch 28/50\n",
      "175/175 [==============================] - 5s 29ms/step - loss: 0.5300 - accuracy: 0.8313 - val_loss: 0.4165 - val_accuracy: 0.8622\n",
      "Epoch 29/50\n",
      "175/175 [==============================] - 5s 29ms/step - loss: 0.4145 - accuracy: 0.8758 - val_loss: 1.0330 - val_accuracy: 0.6260\n",
      "Epoch 30/50\n",
      "175/175 [==============================] - 5s 29ms/step - loss: 0.3849 - accuracy: 0.8857 - val_loss: 0.3402 - val_accuracy: 0.9087\n",
      "Epoch 31/50\n",
      "175/175 [==============================] - 5s 29ms/step - loss: 0.3703 - accuracy: 0.8887 - val_loss: 0.3619 - val_accuracy: 0.8957\n",
      "Epoch 32/50\n",
      "175/175 [==============================] - 5s 29ms/step - loss: 0.3574 - accuracy: 0.8948 - val_loss: 0.3330 - val_accuracy: 0.9091\n",
      "Epoch 33/50\n",
      "175/175 [==============================] - 5s 29ms/step - loss: 0.3543 - accuracy: 0.8950 - val_loss: 0.4352 - val_accuracy: 0.8702\n",
      "Epoch 34/50\n",
      "175/175 [==============================] - 5s 29ms/step - loss: 0.3465 - accuracy: 0.8997 - val_loss: 0.3416 - val_accuracy: 0.9091\n",
      "Epoch 35/50\n",
      "175/175 [==============================] - 5s 29ms/step - loss: 0.3309 - accuracy: 0.8979 - val_loss: 0.3743 - val_accuracy: 0.8781\n",
      "Epoch 36/50\n",
      "175/175 [==============================] - 5s 29ms/step - loss: 0.3276 - accuracy: 0.9063 - val_loss: 0.3442 - val_accuracy: 0.8991\n",
      "Epoch 37/50\n",
      "175/175 [==============================] - 5s 29ms/step - loss: 0.3197 - accuracy: 0.9097 - val_loss: 0.3553 - val_accuracy: 0.8995\n",
      "Epoch 37: early stopping\n"
     ]
    }
   ],
   "source": [
    "np.random.seed(42)\n",
    "tf.random.set_seed(42)\n",
    "\n",
    "optimizer = keras.optimizers.Nadam(learning_rate=0.01)\n",
    "\n",
    "model.compile(loss=\"sparse_categorical_crossentropy\", optimizer=optimizer, metrics=['accuracy'])\n",
    "\n",
    "history = model.fit(train_x, train_y, epochs=50,\n",
    "                   validation_data = (test_x, test_y), callbacks=callback)"
   ]
  },
  {
   "cell_type": "code",
   "execution_count": 34,
   "metadata": {},
   "outputs": [
    {
     "data": {
      "text/plain": [
       "[0.3553027808666229, 0.8994975090026855]"
      ]
     },
     "execution_count": 34,
     "metadata": {},
     "output_type": "execute_result"
    }
   ],
   "source": [
    "scores = model.evaluate(test_x, test_y, verbose=0)\n",
    "\n",
    "scores\n"
   ]
  },
  {
   "cell_type": "code",
   "execution_count": 35,
   "metadata": {},
   "outputs": [
    {
     "name": "stdout",
     "output_type": "stream",
     "text": [
      "loss: 0.36\n",
      "accuracy: 89.95%\n"
     ]
    }
   ],
   "source": [
    "print(\"%s: %.2f\" % (model.metrics_names[0], scores[0]))\n",
    "print(\"%s: %.2f%%\" % (model.metrics_names[1], scores[1]*100))\n"
   ]
  },
  {
   "cell_type": "markdown",
   "metadata": {},
   "source": [
    "# Build a GRU Model (with only one layer) (2 points)"
   ]
  },
  {
   "cell_type": "code",
   "execution_count": 36,
   "metadata": {},
   "outputs": [],
   "source": [
    "model = keras.models.Sequential([\n",
    "    keras.layers.GRU(80, input_shape=[n_steps, n_inputs]),\n",
    "    keras.layers.Dense(5, activation='softmax')\n",
    "])"
   ]
  },
  {
   "cell_type": "code",
   "execution_count": 37,
   "metadata": {
    "scrolled": true
   },
   "outputs": [
    {
     "name": "stdout",
     "output_type": "stream",
     "text": [
      "Epoch 1/50\n",
      "175/175 [==============================] - 5s 22ms/step - loss: 1.0784 - accuracy: 0.5964 - val_loss: 0.9992 - val_accuracy: 0.6713\n",
      "Epoch 2/50\n",
      "175/175 [==============================] - 4s 21ms/step - loss: 0.6909 - accuracy: 0.7642 - val_loss: 0.7509 - val_accuracy: 0.7814\n",
      "Epoch 3/50\n",
      "175/175 [==============================] - 4s 21ms/step - loss: 0.4525 - accuracy: 0.8496 - val_loss: 0.3780 - val_accuracy: 0.8731\n",
      "Epoch 4/50\n",
      "175/175 [==============================] - 4s 21ms/step - loss: 0.3821 - accuracy: 0.8762 - val_loss: 1.0390 - val_accuracy: 0.7425\n",
      "Epoch 5/50\n",
      "175/175 [==============================] - 4s 21ms/step - loss: 0.3648 - accuracy: 0.8832 - val_loss: 0.3083 - val_accuracy: 0.9070\n",
      "Epoch 6/50\n",
      "175/175 [==============================] - 4s 21ms/step - loss: 0.2997 - accuracy: 0.9106 - val_loss: 0.3339 - val_accuracy: 0.8966\n",
      "Epoch 7/50\n",
      "175/175 [==============================] - 4s 21ms/step - loss: 0.2780 - accuracy: 0.9140 - val_loss: 0.2767 - val_accuracy: 0.9213\n",
      "Epoch 8/50\n",
      "175/175 [==============================] - 4s 21ms/step - loss: 0.2574 - accuracy: 0.9230 - val_loss: 0.2538 - val_accuracy: 0.9267\n",
      "Epoch 9/50\n",
      "175/175 [==============================] - 4s 21ms/step - loss: 0.2632 - accuracy: 0.9160 - val_loss: 0.3308 - val_accuracy: 0.8995\n",
      "Epoch 10/50\n",
      "175/175 [==============================] - 4s 21ms/step - loss: 0.2380 - accuracy: 0.9257 - val_loss: 1.2849 - val_accuracy: 0.6047\n",
      "Epoch 11/50\n",
      "175/175 [==============================] - 4s 21ms/step - loss: 0.2605 - accuracy: 0.9198 - val_loss: 0.3815 - val_accuracy: 0.8731\n",
      "Epoch 12/50\n",
      "175/175 [==============================] - 4s 21ms/step - loss: 0.2509 - accuracy: 0.9228 - val_loss: 0.2428 - val_accuracy: 0.9284\n",
      "Epoch 13/50\n",
      "175/175 [==============================] - 4s 21ms/step - loss: 0.2292 - accuracy: 0.9295 - val_loss: 0.2410 - val_accuracy: 0.9322\n",
      "Epoch 14/50\n",
      "175/175 [==============================] - 4s 21ms/step - loss: 0.2141 - accuracy: 0.9336 - val_loss: 0.4163 - val_accuracy: 0.8819\n",
      "Epoch 15/50\n",
      "175/175 [==============================] - 4s 21ms/step - loss: 0.2010 - accuracy: 0.9375 - val_loss: 0.2212 - val_accuracy: 0.9363\n",
      "Epoch 16/50\n",
      "175/175 [==============================] - 4s 21ms/step - loss: 0.1875 - accuracy: 0.9413 - val_loss: 0.2330 - val_accuracy: 0.9334\n",
      "Epoch 17/50\n",
      "175/175 [==============================] - 4s 21ms/step - loss: 0.1880 - accuracy: 0.9392 - val_loss: 0.2500 - val_accuracy: 0.9322\n",
      "Epoch 18/50\n",
      "175/175 [==============================] - 4s 21ms/step - loss: 0.1812 - accuracy: 0.9402 - val_loss: 0.2437 - val_accuracy: 0.9288\n",
      "Epoch 19/50\n",
      "175/175 [==============================] - 4s 21ms/step - loss: 0.1735 - accuracy: 0.9435 - val_loss: 0.2552 - val_accuracy: 0.9246\n",
      "Epoch 20/50\n",
      "175/175 [==============================] - 4s 21ms/step - loss: 0.1737 - accuracy: 0.9429 - val_loss: 0.2240 - val_accuracy: 0.9330\n",
      "Epoch 20: early stopping\n"
     ]
    }
   ],
   "source": [
    "np.random.seed(42)\n",
    "tf.random.set_seed(42)\n",
    "\n",
    "optimizer = keras.optimizers.Nadam(learning_rate=0.01)\n",
    "\n",
    "model.compile(loss=\"sparse_categorical_crossentropy\", optimizer=optimizer, metrics=['accuracy'])\n",
    "\n",
    "history = model.fit(train_x, train_y, epochs=50,\n",
    "                   validation_data = (test_x, test_y), callbacks=callback)"
   ]
  },
  {
   "cell_type": "code",
   "execution_count": 38,
   "metadata": {},
   "outputs": [
    {
     "data": {
      "text/plain": [
       "[0.224001944065094, 0.9329982995986938]"
      ]
     },
     "execution_count": 38,
     "metadata": {},
     "output_type": "execute_result"
    }
   ],
   "source": [
    "scores = model.evaluate(test_x, test_y, verbose=0)\n",
    "\n",
    "scores"
   ]
  },
  {
   "cell_type": "code",
   "execution_count": 39,
   "metadata": {},
   "outputs": [
    {
     "name": "stdout",
     "output_type": "stream",
     "text": [
      "loss: 0.22\n",
      "accuracy: 93.30%\n"
     ]
    }
   ],
   "source": [
    "print(\"%s: %.2f\" % (model.metrics_names[0], scores[0]))\n",
    "print(\"%s: %.2f%%\" % (model.metrics_names[1], scores[1]*100))"
   ]
  },
  {
   "cell_type": "markdown",
   "metadata": {},
   "source": [
    "# Build a deep GRU Model (with only two layers) (2 points)"
   ]
  },
  {
   "cell_type": "code",
   "execution_count": 40,
   "metadata": {},
   "outputs": [],
   "source": [
    "model = keras.models.Sequential([\n",
    "    keras.layers.GRU(40, return_sequences=True, input_shape=[n_steps, n_inputs]),\n",
    "    keras.layers.GRU(40),\n",
    "    keras.layers.Dense(5, activation='softmax')\n",
    "])"
   ]
  },
  {
   "cell_type": "code",
   "execution_count": 41,
   "metadata": {},
   "outputs": [
    {
     "name": "stdout",
     "output_type": "stream",
     "text": [
      "Epoch 1/50\n",
      "175/175 [==============================] - 7s 30ms/step - loss: 1.0318 - accuracy: 0.6106 - val_loss: 0.7186 - val_accuracy: 0.7345\n",
      "Epoch 2/50\n",
      "175/175 [==============================] - 5s 28ms/step - loss: 0.5546 - accuracy: 0.8117 - val_loss: 1.1117 - val_accuracy: 0.6570\n",
      "Epoch 3/50\n",
      "175/175 [==============================] - 5s 28ms/step - loss: 0.4233 - accuracy: 0.8589 - val_loss: 0.3598 - val_accuracy: 0.8769\n",
      "Epoch 4/50\n",
      "175/175 [==============================] - 5s 28ms/step - loss: 0.3480 - accuracy: 0.8887 - val_loss: 0.3731 - val_accuracy: 0.8723\n",
      "Epoch 5/50\n",
      "175/175 [==============================] - 5s 28ms/step - loss: 0.3148 - accuracy: 0.8999 - val_loss: 0.2819 - val_accuracy: 0.9133\n",
      "Epoch 6/50\n",
      "175/175 [==============================] - 5s 28ms/step - loss: 0.2918 - accuracy: 0.9072 - val_loss: 0.2997 - val_accuracy: 0.9058\n",
      "Epoch 7/50\n",
      "175/175 [==============================] - 5s 29ms/step - loss: 0.2808 - accuracy: 0.9094 - val_loss: 0.3043 - val_accuracy: 0.9037\n",
      "Epoch 8/50\n",
      "175/175 [==============================] - 5s 28ms/step - loss: 0.2470 - accuracy: 0.9194 - val_loss: 0.5678 - val_accuracy: 0.8153\n",
      "Epoch 9/50\n",
      "175/175 [==============================] - 5s 28ms/step - loss: 0.2481 - accuracy: 0.9221 - val_loss: 0.2684 - val_accuracy: 0.9192\n",
      "Epoch 10/50\n",
      "175/175 [==============================] - 5s 28ms/step - loss: 0.2398 - accuracy: 0.9205 - val_loss: 0.3308 - val_accuracy: 0.8911\n",
      "Epoch 11/50\n",
      "175/175 [==============================] - 5s 28ms/step - loss: 0.2308 - accuracy: 0.9210 - val_loss: 0.5100 - val_accuracy: 0.8086\n",
      "Epoch 12/50\n",
      "175/175 [==============================] - 5s 28ms/step - loss: 0.2396 - accuracy: 0.9216 - val_loss: 0.2341 - val_accuracy: 0.9343\n",
      "Epoch 13/50\n",
      "175/175 [==============================] - 5s 28ms/step - loss: 0.2059 - accuracy: 0.9338 - val_loss: 0.2350 - val_accuracy: 0.9330\n",
      "Epoch 14/50\n",
      "175/175 [==============================] - 5s 28ms/step - loss: 0.2034 - accuracy: 0.9345 - val_loss: 0.3479 - val_accuracy: 0.8907\n",
      "Epoch 15/50\n",
      "175/175 [==============================] - 5s 28ms/step - loss: 0.2093 - accuracy: 0.9349 - val_loss: 0.2271 - val_accuracy: 0.9330\n",
      "Epoch 16/50\n",
      "175/175 [==============================] - 5s 28ms/step - loss: 0.1880 - accuracy: 0.9388 - val_loss: 0.2319 - val_accuracy: 0.9313\n",
      "Epoch 17/50\n",
      "175/175 [==============================] - 5s 29ms/step - loss: 0.1922 - accuracy: 0.9358 - val_loss: 0.4725 - val_accuracy: 0.8735\n",
      "Epoch 18/50\n",
      "175/175 [==============================] - 5s 28ms/step - loss: 0.2023 - accuracy: 0.9363 - val_loss: 0.2659 - val_accuracy: 0.9238\n",
      "Epoch 19/50\n",
      "175/175 [==============================] - 5s 28ms/step - loss: 0.1918 - accuracy: 0.9336 - val_loss: 0.2463 - val_accuracy: 0.9267\n",
      "Epoch 20/50\n",
      "175/175 [==============================] - 5s 28ms/step - loss: 0.2419 - accuracy: 0.9271 - val_loss: 0.2736 - val_accuracy: 0.9221\n",
      "Epoch 20: early stopping\n"
     ]
    }
   ],
   "source": [
    "np.random.seed(42)\n",
    "tf.random.set_seed(42)\n",
    "\n",
    "optimizer = keras.optimizers.Nadam(learning_rate=0.01)\n",
    "\n",
    "model.compile(loss=\"sparse_categorical_crossentropy\", optimizer=optimizer, metrics=['accuracy'])\n",
    "\n",
    "history = model.fit(train_x, train_y, epochs=50,\n",
    "                   validation_data = (test_x, test_y), callbacks=callback)"
   ]
  },
  {
   "cell_type": "code",
   "execution_count": 42,
   "metadata": {},
   "outputs": [
    {
     "data": {
      "text/plain": [
       "[0.27363279461860657, 0.9221105575561523]"
      ]
     },
     "execution_count": 42,
     "metadata": {},
     "output_type": "execute_result"
    }
   ],
   "source": [
    "scores = model.evaluate(test_x, test_y, verbose=0)\n",
    "\n",
    "scores"
   ]
  },
  {
   "cell_type": "code",
   "execution_count": 43,
   "metadata": {},
   "outputs": [
    {
     "name": "stdout",
     "output_type": "stream",
     "text": [
      "loss: 0.27\n",
      "accuracy: 92.21%\n"
     ]
    }
   ],
   "source": [
    "print(\"%s: %.2f\" % (model.metrics_names[0], scores[0]))\n",
    "print(\"%s: %.2f%%\" % (model.metrics_names[1], scores[1]*100))"
   ]
  },
  {
   "cell_type": "markdown",
   "metadata": {},
   "source": [
    "# Discussion"
   ]
  },
  {
   "cell_type": "markdown",
   "metadata": {},
   "source": [
    "## List the test values of each model you built (0.5 points)"
   ]
  },
  {
   "cell_type": "raw",
   "metadata": {},
   "source": [
    "Baseline Train Accuracy: 0.5816582914572864\n",
    "Baseline Test Accuracy: 0.5829145728643216\n",
    "\n",
    "A normal (cross-sectional) NN \n",
    "loss: 0.24\n",
    "accuracy: 92.38%\n",
    "\n",
    "Neural Network model using Keras (with two or more hidden layers) \n",
    "loss: 0.36\n",
    "accuracy: 88.82%\n",
    "\n",
    "LSTM Model (with only one layer) \n",
    "loss: 0.27\n",
    "accuracy: 92.21%\n",
    "\n",
    "Deep LSTM Model (with only two layers) \n",
    "loss: 0.36\n",
    "accuracy: 89.95%\n",
    "\n",
    "Deep GRU Model (with only two layers) \n",
    "loss: 0.27\n",
    "accuracy: 92.21%\n",
    "\n",
    "Best Model:\n",
    "\n",
    "GRU Model (with only one layer) \n",
    "loss: 0.22\n",
    "accuracy: 93.30%\n"
   ]
  },
  {
   "cell_type": "markdown",
   "metadata": {},
   "source": [
    "## Which model performs the best and why? (0.5 points) "
   ]
  },
  {
   "cell_type": "raw",
   "metadata": {},
   "source": [
    "GRU model with one layer performs the best with accuracy of 93.30%. Since GRU model with one layer got the higher accuracy than the other models that are built, we can conclude that this is this model is the best model in predicting the Target variable(Normal heartbeat or other anomalies)."
   ]
  },
  {
   "cell_type": "markdown",
   "metadata": {},
   "source": [
    "## How does it compare to baseline? (0.5 points)"
   ]
  },
  {
   "cell_type": "raw",
   "metadata": {},
   "source": [
    "The obtained test accuracy for the baseline model is 58.29% and the GRU model with one layer accuracy is 93.30%. Since the accuracy of GRU model with one layer accuracy is higher than the baseline model, we can say that the GRU model with one hidden layer can be used for predicting the Target variable(Normal heartbeat or other anomalies)."
   ]
  }
 ],
 "metadata": {
  "kernelspec": {
   "display_name": "Python 3",
   "language": "python",
   "name": "python3"
  },
  "language_info": {
   "codemirror_mode": {
    "name": "ipython",
    "version": 3
   },
   "file_extension": ".py",
   "mimetype": "text/x-python",
   "name": "python",
   "nbconvert_exporter": "python",
   "pygments_lexer": "ipython3",
   "version": "3.11.2"
  },
  "toc": {
   "base_numbering": 1,
   "nav_menu": {},
   "number_sections": false,
   "sideBar": true,
   "skip_h1_title": true,
   "title_cell": "Table of Contents",
   "title_sidebar": "Contents",
   "toc_cell": false,
   "toc_position": {},
   "toc_section_display": true,
   "toc_window_display": false
  },
  "varInspector": {
   "cols": {
    "lenName": 16,
    "lenType": 16,
    "lenVar": 40
   },
   "kernels_config": {
    "python": {
     "delete_cmd_postfix": "",
     "delete_cmd_prefix": "del ",
     "library": "var_list.py",
     "varRefreshCmd": "print(var_dic_list())"
    },
    "r": {
     "delete_cmd_postfix": ") ",
     "delete_cmd_prefix": "rm(",
     "library": "var_list.r",
     "varRefreshCmd": "cat(var_dic_list()) "
    }
   },
   "types_to_exclude": [
    "module",
    "function",
    "builtin_function_or_method",
    "instance",
    "_Feature"
   ],
   "window_display": false
  },
  "vscode": {
   "interpreter": {
    "hash": "aee8b7b246df8f9039afb4144a1f6fd8d2ca17a180786b69acc140d282b71a49"
   }
  }
 },
 "nbformat": 4,
 "nbformat_minor": 2
}
